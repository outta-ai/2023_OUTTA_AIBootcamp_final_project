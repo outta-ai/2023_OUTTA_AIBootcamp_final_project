{
  "cells": [
    {
      "cell_type": "code",
      "execution_count": null,
      "metadata": {
        "id": "-ksoUw_9uFDY"
      },
      "outputs": [],
      "source": [
        "#@title Setup (Do NOT modify)\n",
        "from google.colab import drive\n",
        "drive.mount('/content/drive')\n",
        "%cd /content/drive/MyDrive/final\n",
        "!pip install openai-clip"
      ]
    },
    {
      "cell_type": "code",
      "execution_count": null,
      "metadata": {
        "id": "ZSaektzjZbKG"
      },
      "outputs": [],
      "source": [
        "#@title Data preprocessing (Train)\n",
        "!python preproc_datasets_celeba_zip_train.py --source=./multimodal_celeba_hq.zip --dest train_data_6cap.zip --emb_dim 512 --transform=center-crop --width=256 --height=256"
      ]
    },
    {
      "cell_type": "code",
      "execution_count": null,
      "metadata": {
        "id": "Svp2gXHa4UDb"
      },
      "outputs": [],
      "source": [
        "#@title Data preprocessing (Test)\n",
        "!python preproc_datasets_celeba_zip_test.py --source=./multimodal_celeba_hq.zip --dest test_data_6cap.zip --emb_dim 512 --transform=center-crop --width=256 --height=256"
      ]
    },
    {
      "cell_type": "code",
      "execution_count": null,
      "metadata": {
        "cellView": "form",
        "id": "pQY41tvBuJVO"
      },
      "outputs": [],
      "source": [
        "#@title Train\n",
        "\n",
        "train_data = \"sample_train.zip\"#@param {\"type\": \"string\"}\n",
        "batch_size = 24 #@param {\"type\": \"integer\"}\n",
        "num_epochs = 10 #@param {\"type\": \"integer\"}\n",
        "learning_rate = 0.0002 #@param {\"type\": \"number\"}\n",
        "report_interval = 50 #@param {\"type\": \"integer\"}\n",
        "noise_dim = 100 #@param {\"type\": \"integer\"}\n",
        "projection_dim = 128 #@param {\"type\": \"integer\"}\n",
        "clip_embedding_dim = 512 #@param {\"type\": \"integer\"}\n",
        "checkpoint_path = \"model_exp1\" #@param {\"type\": \"string\"}\n",
        "result_path = \"images_exp1\" #@param {\"type\": \"string\"}\n",
        "use_uncond_loss = True #@param {\"type\": \"boolean\"}\n",
        "use_contrastive_loss = True #@param {\"type\": \"boolean\"}\n",
        "num_stage = 3 #@param {\"type\": \"integer\"}\n",
        "resume_checkpoint_path = \"None\" #@param {\"type\": \"string\"}\n",
        "resume_epoch = -1 #@param {\"type\": \"integer\"}\n",
        "\n",
        "test_cmd = f'''python main.py \\\n",
        "    --train_data \"{train_data}\" \\\n",
        "    --batch_size {batch_size} \\\n",
        "    --num_epochs {num_epochs} \\\n",
        "    --learning_rate {learning_rate} \\\n",
        "    --report_interval {report_interval} \\\n",
        "    --noise_dim {noise_dim} \\\n",
        "    --projection_dim {projection_dim} \\\n",
        "    --clip_embedding_dim {clip_embedding_dim} \\\n",
        "    --checkpoint_path \"{checkpoint_path}\" \\\n",
        "    --result_path \"{result_path}\" \\\n",
        "    --num_stage {num_stage} \\\n",
        "    --resume_epoch {resume_epoch} \\\n",
        "    '''\n",
        "if use_uncond_loss:\n",
        "    test_cmd += \"--use_uncond_loss \"\n",
        "if use_contrastive_loss:\n",
        "    test_cmd += \"--use_contrastive_loss \"\n",
        "if resume_checkpoint_path != \"None\":\n",
        "    test_cmd += f'''--resume_checkpoint_path \"{resume_checkpoint_path}\"'''\n",
        "\n",
        "with open('./train_script.sh', 'w') as file:\n",
        "    file.write(test_cmd)\n",
        "\n",
        "!bash train_script.sh"
      ]
    },
    {
      "cell_type": "code",
      "execution_count": null,
      "metadata": {
        "cellView": "form",
        "id": "S7ueWJp1t-Zi"
      },
      "outputs": [],
      "source": [
        "#@title Test (Generate image)\n",
        "\n",
        "prompt = \"The woman is young and has blond hair, and arched eyebrows.\"#@param {\"type\": \"string\"}\n",
        "load_epoch = 10 #@param {\"type\": \"integer\"}\n",
        "checkpoint_path = \"model_exp1\" #@param {\"type\": \"string\"}\n",
        "\n",
        "test_cmd = f'''python generate_image.py \\\n",
        "    --prompt \"{prompt}\" \\\n",
        "    --load_epoch {load_epoch} \\\n",
        "    --checkpoint_path \"{checkpoint_path}\"\n",
        "    '''\n",
        "\n",
        "with open('./test_script.sh', 'w') as file:\n",
        "    file.write(test_cmd)\n",
        "\n",
        "!bash test_script.sh\n",
        "\n",
        "\n",
        "from IPython.display import Image\n",
        "import os\n",
        "img_64 = Image(os.path.join(\"result_64.png\"))\n",
        "display(img_64)\n",
        "img_128 = Image(os.path.join(\"result_128.png\"))\n",
        "display(img_128)\n",
        "img_256 = Image(os.path.join(\"result_256.png\"))\n",
        "display(img_256)"
      ]
    },
    {
      "cell_type": "code",
      "execution_count": null,
      "metadata": {
        "id": "tH5gJKdVyUuu"
      },
      "outputs": [],
      "source": []
    }
  ],
  "metadata": {
    "accelerator": "GPU",
    "colab": {
      "gpuType": "T4",
      "machine_shape": "hm",
      "provenance": []
    },
    "kernelspec": {
      "display_name": "Python 3",
      "name": "python3"
    },
    "language_info": {
      "name": "python"
    }
  },
  "nbformat": 4,
  "nbformat_minor": 0
}
